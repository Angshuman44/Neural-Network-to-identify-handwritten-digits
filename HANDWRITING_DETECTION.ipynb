{
 "cells": [
  {
   "cell_type": "code",
   "execution_count": null,
   "metadata": {
    "id": "-vwe2208uy_y"
   },
   "outputs": [],
   "source": [
    "\n",
    "import tensorflow as tf\n",
    "import numpy as np\n",
    "from tensorflow.keras.layers import Input, Conv2D, MaxPooling2D, Dense, Flatten, Dropout, Activation, BatchNormalization\n",
    "from tensorflow.keras.models import Model, Sequential\n",
    "from tensorflow.keras.utils import to_categorical\n",
    "from tensorflow.keras.preprocessing.image import ImageDataGenerator\n",
    "from tensorflow.keras.regularizers import l2\n",
    "from tensorflow.keras.callbacks import ReduceLROnPlateau\n",
    "from sklearn.model_selection import train_test_split\n",
    "import matplotlib.pyplot as plt\n",
    "import pandas as pd\n",
    "import math\n"
   ]
  },
  {
   "cell_type": "code",
   "execution_count": null,
   "metadata": {
    "colab": {
     "base_uri": "https://localhost:8080/"
    },
    "id": "ulPyhkFO2iAl",
    "outputId": "980e63ce-1373-4c4d-fa76-c69f2d8609a3"
   },
   "outputs": [
    {
     "name": "stdout",
     "output_type": "stream",
     "text": [
      "2.15.0\n"
     ]
    }
   ],
   "source": [
    "print(tf.__version__)\n"
   ]
  },
  {
   "cell_type": "markdown",
   "metadata": {
    "id": "fwluhPmZH9ro"
   },
   "source": [
    "[LeNet-5] Modified Architecture\n",
    "ConvNet --> ConvNet --> BatchNorm --> Pool --> (Dropout) --> ConvNet --> ConvNet --> BatchNorm --> Pool --> (Dropout) --> (Flatten) --> FullyConnected --> BatchNorm --> FullyConnected --> BatchNorm --> FullyConnected --> BatchNorm --> (Dropout) --> Softmax\n",
    "\n",
    "Results\n",
    "Epochs: 30.\n",
    "Loss: 0.0144\n",
    "Train Accuracy: 0.9973\n",
    "Validation Loss: 0.0249\n",
    "Validation Accuracy: 0.9963\n",
    "Highest Dev Set Accuracy Obtained - 99.63%\n",
    "\n"
   ]
  },
  {
   "cell_type": "code",
   "execution_count": null,
   "metadata": {
    "id": "H8zYr_tWH-eg"
   },
   "outputs": [],
   "source": [
    "def LeNet5v2(input_shape = (32, 32, 1), classes = 10):\n",
    "    \"\"\"\n",
    "    Implementation of a modified LeNet-5.\n",
    "    Only those layers with learnable parameters are counted in the layer numbering.\n",
    "\n",
    "    Arguments:\n",
    "    input_shape -- shape of the images of the dataset\n",
    "    classes -- integer, number of classes\n",
    "\n",
    "    Returns:\n",
    "    model -- a Model() instance in Keras\n",
    "    \"\"\"\n",
    "\n",
    "    model = Sequential([\n",
    "\n",
    "    # Layer 1\n",
    "    Conv2D(filters = 32, kernel_size = 5, strides = 1, activation = 'relu', input_shape = (32,32,1), kernel_regularizer=l2(0.0005), name = 'convolution_1'),\n",
    "\n",
    "    # Layer 2\n",
    "    Conv2D(filters = 32, kernel_size = 5, strides = 1, name = 'convolution_2', use_bias=False),\n",
    "\n",
    "    # Layer 3\n",
    "    BatchNormalization(name = 'batchnorm_1'),\n",
    "\n",
    "    # -------------------------------- #\n",
    "    Activation(\"relu\"),\n",
    "    MaxPooling2D(pool_size = 2, strides = 2, name = 'max_pool_1'),\n",
    "    Dropout(0.25, name = 'dropout_1'),\n",
    "    # -------------------------------- #\n",
    "\n",
    "    # Layer 3\n",
    "    Conv2D(filters = 64, kernel_size = 3, strides = 1, activation = 'relu', kernel_regularizer=l2(0.0005), name = 'convolution_3'),\n",
    "\n",
    "    # Layer 4\n",
    "    Conv2D(filters = 64, kernel_size = 3, strides = 1, name = 'convolution_4', use_bias=False),\n",
    "\n",
    "    # Layer 5\n",
    "    BatchNormalization(name = 'batchnorm_2'),\n",
    "\n",
    "    # -------------------------------- #\n",
    "    Activation(\"relu\"),\n",
    "    MaxPooling2D(pool_size = 2, strides = 2, name = 'max_pool_2'),\n",
    "    Dropout(0.25, name = 'dropout_2'),\n",
    "    Flatten(name = 'flatten'),\n",
    "    # -------------------------------- #\n",
    "\n",
    "    # Layer 6\n",
    "    Dense(units = 256, name = 'fully_connected_1', use_bias=False),\n",
    "\n",
    "    # Layer 7\n",
    "    BatchNormalization(name = 'batchnorm_3'),\n",
    "\n",
    "    # -------------------------------- #\n",
    "    Activation(\"relu\"),\n",
    "    # -------------------------------- #\n",
    "\n",
    "    # Layer 8\n",
    "    Dense(units = 128, name = 'fully_connected_2', use_bias=False),\n",
    "\n",
    "    # Layer 9\n",
    "    BatchNormalization(name = 'batchnorm_4'),\n",
    "\n",
    "    # -------------------------------- #\n",
    "    Activation(\"relu\"),\n",
    "    # -------------------------------- #\n",
    "\n",
    "    # Layer 10\n",
    "    Dense(units = 84, name = 'fully_connected_3', use_bias=False),\n",
    "\n",
    "    # Layer 11\n",
    "    BatchNormalization(name = 'batchnorm_5'),\n",
    "\n",
    "    # -------------------------------- #\n",
    "    Activation(\"relu\"),\n",
    "    Dropout(0.25, name = 'dropout_3'),\n",
    "    # -------------------------------- #\n",
    "\n",
    "    # Output\n",
    "    Dense(units = 10, activation = 'softmax', name = 'output')\n",
    "\n",
    "    ])\n",
    "\n",
    "    model._name = 'LeNet5v2'\n",
    "\n",
    "    return model\n"
   ]
  },
  {
   "cell_type": "code",
   "execution_count": null,
   "metadata": {
    "id": "OsS1r9DbIC1k"
   },
   "outputs": [],
   "source": [
    "LeNet5Model = LeNet5v2(input_shape = (32, 32, 1), classes = 10)\n"
   ]
  },
  {
   "cell_type": "code",
   "execution_count": null,
   "metadata": {
    "id": "XuvGsc9oIFRw"
   },
   "outputs": [],
   "source": [
    "LeNet5Model.compile(optimizer='adam', loss='categorical_crossentropy', metrics=['accuracy'])\n"
   ]
  },
  {
   "cell_type": "code",
   "execution_count": null,
   "metadata": {
    "colab": {
     "base_uri": "https://localhost:8080/"
    },
    "id": "F0NTmMF6IJLT",
    "outputId": "c7a9d70a-11f6-42e9-d4a8-05b8d4bf0d4f"
   },
   "outputs": [
    {
     "name": "stdout",
     "output_type": "stream",
     "text": [
      "Model: \"LeNet5v2\"\n",
      "_________________________________________________________________\n",
      " Layer (type)                Output Shape              Param #   \n",
      "=================================================================\n",
      " convolution_1 (Conv2D)      (None, 28, 28, 32)        832       \n",
      "                                                                 \n",
      " convolution_2 (Conv2D)      (None, 24, 24, 32)        25600     \n",
      "                                                                 \n",
      " batchnorm_1 (BatchNormaliz  (None, 24, 24, 32)        128       \n",
      " ation)                                                          \n",
      "                                                                 \n",
      " activation (Activation)     (None, 24, 24, 32)        0         \n",
      "                                                                 \n",
      " max_pool_1 (MaxPooling2D)   (None, 12, 12, 32)        0         \n",
      "                                                                 \n",
      " dropout_1 (Dropout)         (None, 12, 12, 32)        0         \n",
      "                                                                 \n",
      " convolution_3 (Conv2D)      (None, 10, 10, 64)        18496     \n",
      "                                                                 \n",
      " convolution_4 (Conv2D)      (None, 8, 8, 64)          36864     \n",
      "                                                                 \n",
      " batchnorm_2 (BatchNormaliz  (None, 8, 8, 64)          256       \n",
      " ation)                                                          \n",
      "                                                                 \n",
      " activation_1 (Activation)   (None, 8, 8, 64)          0         \n",
      "                                                                 \n",
      " max_pool_2 (MaxPooling2D)   (None, 4, 4, 64)          0         \n",
      "                                                                 \n",
      " dropout_2 (Dropout)         (None, 4, 4, 64)          0         \n",
      "                                                                 \n",
      " flatten (Flatten)           (None, 1024)              0         \n",
      "                                                                 \n",
      " fully_connected_1 (Dense)   (None, 256)               262144    \n",
      "                                                                 \n",
      " batchnorm_3 (BatchNormaliz  (None, 256)               1024      \n",
      " ation)                                                          \n",
      "                                                                 \n",
      " activation_2 (Activation)   (None, 256)               0         \n",
      "                                                                 \n",
      " fully_connected_2 (Dense)   (None, 128)               32768     \n",
      "                                                                 \n",
      " batchnorm_4 (BatchNormaliz  (None, 128)               512       \n",
      " ation)                                                          \n",
      "                                                                 \n",
      " activation_3 (Activation)   (None, 128)               0         \n",
      "                                                                 \n",
      " fully_connected_3 (Dense)   (None, 84)                10752     \n",
      "                                                                 \n",
      " batchnorm_5 (BatchNormaliz  (None, 84)                336       \n",
      " ation)                                                          \n",
      "                                                                 \n",
      " activation_4 (Activation)   (None, 84)                0         \n",
      "                                                                 \n",
      " dropout_3 (Dropout)         (None, 84)                0         \n",
      "                                                                 \n",
      " output (Dense)              (None, 10)                850       \n",
      "                                                                 \n",
      "=================================================================\n",
      "Total params: 390562 (1.49 MB)\n",
      "Trainable params: 389434 (1.49 MB)\n",
      "Non-trainable params: 1128 (4.41 KB)\n",
      "_________________________________________________________________\n"
     ]
    }
   ],
   "source": [
    "LeNet5Model.summary()\n"
   ]
  },
  {
   "cell_type": "code",
   "execution_count": null,
   "metadata": {
    "id": "Zv4yNiKuILJR"
   },
   "outputs": [],
   "source": []
  },
  {
   "cell_type": "markdown",
   "metadata": {
    "id": "uscnVkXWIX9P"
   },
   "source": [
    "# Kaggle Data Processing"
   ]
  },
  {
   "cell_type": "code",
   "execution_count": null,
   "metadata": {
    "colab": {
     "base_uri": "https://localhost:8080/",
     "height": 447
    },
    "id": "CER0V_NDIZDZ",
    "outputId": "24057832-a689-4666-95eb-ca4986373105"
   },
   "outputs": [
    {
     "data": {
      "text/plain": [
       "<matplotlib.image.AxesImage at 0x7d63355d9570>"
      ]
     },
     "execution_count": 9,
     "metadata": {},
     "output_type": "execute_result"
    },
    {
     "data": {
      "image/png": "[encoded data removed]",
      "text/plain": [
       "<Figure size 640x480 with 1 Axes>"
      ]
     },
     "metadata": {},
     "output_type": "display_data"
    }
   ],
   "source": [
    "import tensorflow as tf\n",
    "from sklearn.model_selection import train_test_split\n",
    "import matplotlib.pyplot as plt\n",
    "\n",
    "# Load the MNIST dataset\n",
    "mnist = tf.keras.datasets.mnist\n",
    "(X_train, Y_train), (X_test, Y_test) = mnist.load_data()\n",
    "\n",
    "# Reshape and preprocess the data\n",
    "X_train = X_train.reshape(-1, 28, 28, 1) / 255.0\n",
    "X_test = X_test.reshape(-1, 28, 28, 1) / 255.0\n",
    "\n",
    "# Split the training set into training and cross-validation sets\n",
    "random_seed = 2\n",
    "X_train, X_val, Y_train, Y_val = train_test_split(X_train, Y_train, test_size=0.05, random_state=random_seed)\n",
    "\n",
    "plt.imshow(X_train[0][:,:,0])\n"
   ]
  },
  {
   "cell_type": "code",
   "execution_count": null,
   "metadata": {
    "id": "T6z0ssfkMoRO"
   },
   "outputs": [],
   "source": [
    "\n",
    "X_train = np.array(X_train)\n",
    "X_val = np.array(X_val)\n",
    "X_test = np.array(X_test)\n",
    "\n",
    "# Padding the images by 2 pixels since in the paper input images were 32x32\n",
    "X_train = np.pad(X_train, ((0,0),(2,2),(2,2),(0,0)), 'constant')\n",
    "X_val = np.pad(X_val, ((0,0),(2,2),(2,2),(0,0)), 'constant')\n",
    "X_test = np.pad(X_test, ((0,0),(2,2),(2,2),(0,0)), 'constant')\n",
    "\n",
    "# Standardization\n",
    "mean_px = X_train.mean().astype(np.float32)\n",
    "std_px = X_train.std().astype(np.float32)\n",
    "X_train = (X_train - mean_px)/(std_px)\n",
    "\n",
    "mean_px = X_val.mean().astype(np.float32)\n",
    "std_px = X_val.std().astype(np.float32)\n",
    "X_val = (X_val - mean_px)/(std_px)\n",
    "\n",
    "mean_px = X_test.mean().astype(np.float32)\n",
    "std_px = X_test.std().astype(np.float32)\n",
    "X_test = (X_test - mean_px)/(std_px)\n",
    "\n",
    "# One-hot encoding the labels\n",
    "Y_train = to_categorical(Y_train, num_classes = 10)\n",
    "Y_val = to_categorical(Y_val, num_classes = 10)\n"
   ]
  },
  {
   "cell_type": "code",
   "execution_count": null,
   "metadata": {
    "id": "HasHec-0Mu3e"
   },
   "outputs": [],
   "source": [
    "\n",
    "# By using the image generator, we are not generating new data. We are only replacing the exisiting images.\n",
    "\n",
    "datagen = ImageDataGenerator(\n",
    "        featurewise_center = False,  # set input mean to 0 over the dataset\n",
    "        samplewise_center = False,  # set each sample mean to 0\n",
    "        featurewise_std_normalization = False,  # divide inputs by std of the dataset\n",
    "        samplewise_std_normalization = False,  # divide each input by its std\n",
    "        zca_whitening = False,  # apply ZCA whitening\n",
    "        rotation_range = 10,  # randomly rotate images in the range (degrees, 0 to 180)\n",
    "        zoom_range = 0.1, # Randomly zoom image\n",
    "        width_shift_range = 0.1,  # randomly shift images horizontally (fraction of total width)\n",
    "        height_shift_range = 0.1,  # randomly shift images vertically (fraction of total height)\n",
    "        horizontal_flip = False,  # randomly flip images\n",
    "        vertical_flip = False)  # randomly flip images\n",
    "\n",
    "datagen.fit(X_train)"
   ]
  },
  {
   "cell_type": "code",
   "execution_count": null,
   "metadata": {
    "id": "O2p3EuxLM0LH"
   },
   "outputs": [],
   "source": [
    "#Variable Learning Rate\n",
    "\n",
    "variable_learning_rate = ReduceLROnPlateau(monitor='val_loss', factor = 0.2, patience = 2)"
   ]
  },
  {
   "cell_type": "code",
   "execution_count": null,
   "metadata": {
    "colab": {
     "base_uri": "https://localhost:8080/"
    },
    "id": "zgglVvQ1M4Em",
    "outputId": "92d658f9-4635-429d-8bb6-dcff1fa96e65"
   },
   "outputs": [
    {
     "name": "stdout",
     "output_type": "stream",
     "text": [
      "Epoch 1/30\n",
      "891/891 [==============================] - 20s 10ms/step - loss: 0.2127 - accuracy: 0.9461 - val_loss: 0.0639 - val_accuracy: 0.9853 - lr: 0.0010\n",
      "Epoch 2/30\n",
      "891/891 [==============================] - 8s 9ms/step - loss: 0.0838 - accuracy: 0.9802 - val_loss: 0.0582 - val_accuracy: 0.9873 - lr: 0.0010\n",
      "Epoch 3/30\n",
      "891/891 [==============================] - 9s 10ms/step - loss: 0.0657 - accuracy: 0.9849 - val_loss: 0.0487 - val_accuracy: 0.9900 - lr: 0.0010\n",
      "Epoch 4/30\n",
      "891/891 [==============================] - 8s 9ms/step - loss: 0.0586 - accuracy: 0.9856 - val_loss: 0.0353 - val_accuracy: 0.9920 - lr: 0.0010\n",
      "Epoch 5/30\n",
      "891/891 [==============================] - 9s 10ms/step - loss: 0.0500 - accuracy: 0.9878 - val_loss: 0.0565 - val_accuracy: 0.9863 - lr: 0.0010\n",
      "Epoch 6/30\n",
      "891/891 [==============================] - 7s 8ms/step - loss: 0.0464 - accuracy: 0.9886 - val_loss: 0.0411 - val_accuracy: 0.9903 - lr: 0.0010\n",
      "Epoch 7/30\n",
      "891/891 [==============================] - 10s 11ms/step - loss: 0.0297 - accuracy: 0.9939 - val_loss: 0.0277 - val_accuracy: 0.9953 - lr: 2.0000e-04\n",
      "Epoch 8/30\n",
      "891/891 [==============================] - 8s 9ms/step - loss: 0.0259 - accuracy: 0.9947 - val_loss: 0.0262 - val_accuracy: 0.9953 - lr: 2.0000e-04\n",
      "Epoch 9/30\n",
      "891/891 [==============================] - 8s 9ms/step - loss: 0.0234 - accuracy: 0.9950 - val_loss: 0.0276 - val_accuracy: 0.9947 - lr: 2.0000e-04\n",
      "Epoch 10/30\n",
      "891/891 [==============================] - 9s 10ms/step - loss: 0.0210 - accuracy: 0.9954 - val_loss: 0.0294 - val_accuracy: 0.9933 - lr: 2.0000e-04\n",
      "Epoch 11/30\n",
      "891/891 [==============================] - 7s 8ms/step - loss: 0.0178 - accuracy: 0.9964 - val_loss: 0.0244 - val_accuracy: 0.9960 - lr: 4.0000e-05\n",
      "Epoch 12/30\n",
      "891/891 [==============================] - 9s 10ms/step - loss: 0.0161 - accuracy: 0.9966 - val_loss: 0.0247 - val_accuracy: 0.9963 - lr: 4.0000e-05\n",
      "Epoch 13/30\n",
      "891/891 [==============================] - 7s 8ms/step - loss: 0.0156 - accuracy: 0.9966 - val_loss: 0.0257 - val_accuracy: 0.9950 - lr: 4.0000e-05\n",
      "Epoch 14/30\n",
      "891/891 [==============================] - 9s 10ms/step - loss: 0.0154 - accuracy: 0.9970 - val_loss: 0.0256 - val_accuracy: 0.9957 - lr: 8.0000e-06\n",
      "Epoch 15/30\n",
      "891/891 [==============================] - 8s 9ms/step - loss: 0.0149 - accuracy: 0.9971 - val_loss: 0.0253 - val_accuracy: 0.9957 - lr: 8.0000e-06\n",
      "Epoch 16/30\n",
      "891/891 [==============================] - 8s 9ms/step - loss: 0.0156 - accuracy: 0.9970 - val_loss: 0.0251 - val_accuracy: 0.9963 - lr: 1.6000e-06\n",
      "Epoch 17/30\n",
      "891/891 [==============================] - 8s 9ms/step - loss: 0.0148 - accuracy: 0.9972 - val_loss: 0.0252 - val_accuracy: 0.9957 - lr: 1.6000e-06\n",
      "Epoch 18/30\n",
      "891/891 [==============================] - 8s 9ms/step - loss: 0.0150 - accuracy: 0.9970 - val_loss: 0.0250 - val_accuracy: 0.9963 - lr: 3.2000e-07\n",
      "Epoch 19/30\n",
      "891/891 [==============================] - 9s 10ms/step - loss: 0.0152 - accuracy: 0.9970 - val_loss: 0.0251 - val_accuracy: 0.9960 - lr: 3.2000e-07\n",
      "Epoch 20/30\n",
      "891/891 [==============================] - 8s 9ms/step - loss: 0.0156 - accuracy: 0.9970 - val_loss: 0.0252 - val_accuracy: 0.9957 - lr: 6.4000e-08\n",
      "Epoch 21/30\n",
      "891/891 [==============================] - 9s 10ms/step - loss: 0.0151 - accuracy: 0.9969 - val_loss: 0.0251 - val_accuracy: 0.9960 - lr: 6.4000e-08\n",
      "Epoch 22/30\n",
      "891/891 [==============================] - 7s 8ms/step - loss: 0.0149 - accuracy: 0.9973 - val_loss: 0.0252 - val_accuracy: 0.9957 - lr: 1.2800e-08\n",
      "Epoch 23/30\n",
      "891/891 [==============================] - 9s 10ms/step - loss: 0.0148 - accuracy: 0.9971 - val_loss: 0.0249 - val_accuracy: 0.9963 - lr: 1.2800e-08\n",
      "Epoch 24/30\n",
      "891/891 [==============================] - 8s 9ms/step - loss: 0.0135 - accuracy: 0.9973 - val_loss: 0.0254 - val_accuracy: 0.9957 - lr: 2.5600e-09\n",
      "Epoch 25/30\n",
      "891/891 [==============================] - 8s 9ms/step - loss: 0.0147 - accuracy: 0.9971 - val_loss: 0.0250 - val_accuracy: 0.9963 - lr: 2.5600e-09\n",
      "Epoch 26/30\n",
      "891/891 [==============================] - 8s 9ms/step - loss: 0.0140 - accuracy: 0.9974 - val_loss: 0.0253 - val_accuracy: 0.9957 - lr: 5.1200e-10\n",
      "Epoch 27/30\n",
      "891/891 [==============================] - 8s 9ms/step - loss: 0.0147 - accuracy: 0.9971 - val_loss: 0.0251 - val_accuracy: 0.9960 - lr: 5.1200e-10\n",
      "Epoch 28/30\n",
      "891/891 [==============================] - 9s 10ms/step - loss: 0.0147 - accuracy: 0.9970 - val_loss: 0.0250 - val_accuracy: 0.9963 - lr: 1.0240e-10\n",
      "Epoch 29/30\n",
      "891/891 [==============================] - 7s 8ms/step - loss: 0.0159 - accuracy: 0.9965 - val_loss: 0.0250 - val_accuracy: 0.9963 - lr: 1.0240e-10\n",
      "Epoch 30/30\n",
      "891/891 [==============================] - 9s 10ms/step - loss: 0.0144 - accuracy: 0.9973 - val_loss: 0.0249 - val_accuracy: 0.9963 - lr: 2.0480e-11\n"
     ]
    }
   ],
   "source": [
    "history = LeNet5Model.fit(X_train, Y_train, epochs = 30, batch_size = 64, callbacks = [variable_learning_rate], validation_data = (X_val,Y_val))\n"
   ]
  },
  {
   "cell_type": "code",
   "execution_count": null,
   "metadata": {
    "colab": {
     "base_uri": "https://localhost:8080/",
     "height": 900
    },
    "id": "xumUOlwVNGIj",
    "outputId": "bc20dd6f-d764-4b47-a35b-2fad1ed505f4"
   },
   "outputs": [
    {
     "data": {
      "text/plain": [
       "<Figure size 640x480 with 0 Axes>"
      ]
     },
     "execution_count": 18,
     "metadata": {},
     "output_type": "execute_result"
    },
    {
     "data": {
      "image/png": "[encoded data removed]",
      "text/plain": [
       "<Figure size 640x480 with 1 Axes>"
      ]
     },
     "metadata": {},
     "output_type": "display_data"
    },
    {
     "data": {
      "image/png": "[encoded data removed]",
      "text/plain": [
       "<Figure size 640x480 with 1 Axes>"
      ]
     },
     "metadata": {},
     "output_type": "display_data"
    },
    {
     "data": {
      "text/plain": [
       "<Figure size 640x480 with 0 Axes>"
      ]
     },
     "metadata": {},
     "output_type": "display_data"
    }
   ],
   "source": [
    "\n",
    "%matplotlib inline\n",
    "\n",
    "import matplotlib.image  as mpimg\n",
    "import matplotlib.pyplot as plt\n",
    "\n",
    "#-----------------------------------------------------------\n",
    "# Retrieve a list of list results on training and test data\n",
    "# sets for each training epoch\n",
    "#-----------------------------------------------------------\n",
    "acc=history.history['accuracy']\n",
    "val_acc=history.history['val_accuracy']\n",
    "loss=history.history['loss']\n",
    "val_loss=history.history['val_loss']\n",
    "\n",
    "epochs=range(len(acc)) # Get number of epochs\n",
    "\n",
    "#------------------------------------------------\n",
    "# Plot training and validation accuracy per epoch\n",
    "#------------------------------------------------\n",
    "plt.plot(epochs, acc, 'r', \"Training Accuracy\")\n",
    "plt.plot(epochs, val_acc, 'b', \"Validation Accuracy\")\n",
    "plt.title('Training and validation accuracy')\n",
    "plt.figure()\n",
    "\n",
    "#------------------------------------------------\n",
    "# Plot training and validation loss per epoch\n",
    "#------------------------------------------------\n",
    "plt.plot(epochs, loss, 'r', \"Training Loss\")\n",
    "plt.plot(epochs, val_loss, 'b', \"Validation Loss\")\n",
    "plt.figure()"
   ]
  },
  {
   "cell_type": "code",
   "execution_count": null,
   "metadata": {
    "colab": {
     "base_uri": "https://localhost:8080/"
    },
    "id": "9NTABzpfOTrV",
    "outputId": "8c1d33f2-9af4-4204-bf4f-22568e129158"
   },
   "outputs": [
    {
     "name": "stdout",
     "output_type": "stream",
     "text": [
      "313/313 [==============================] - 2s 4ms/step\n"
     ]
    }
   ],
   "source": [
    "\n",
    "results = LeNet5Model.predict(X_test)\n",
    "results = np.argmax(results,axis = 1)\n",
    "results = pd.Series(results,name=\"Label\")"
   ]
  },
  {
   "cell_type": "code",
   "execution_count": null,
   "metadata": {
    "id": "p5VnrGPmObcu"
   },
   "outputs": [],
   "source": [
    "\n",
    "submission = pd.concat([pd.Series(range(1,28001),name = \"ImageId\"),results],axis = 1)\n",
    "submission.to_csv(\"LeNetv2.csv\",index=False)"
   ]
  },
  {
   "cell_type": "code",
   "execution_count": null,
   "metadata": {
    "colab": {
     "base_uri": "https://localhost:8080/",
     "height": 424
    },
    "id": "ULBy-nJbOgnc",
    "outputId": "549c226f-d688-4878-d80c-42d8bd39797a"
   },
   "outputs": [
    {
     "data": {
      "text/html": [
       "\n",
       "  <div id=\"df-f53e9c41-a8d9-419f-9afe-19cd18d9e0a7\" class=\"colab-df-container\">\n",
       "    <div>\n",
       "<style scoped>\n",
       "    .dataframe tbody tr th:only-of-type {\n",
       "        vertical-align: middle;\n",
       "    }\n",
       "\n",
       "    .dataframe tbody tr th {\n",
       "        vertical-align: top;\n",
       "    }\n",
       "\n",
       "    .dataframe thead th {\n",
       "        text-align: right;\n",
       "    }\n",
       "</style>\n",
       "<table border=\"1\" class=\"dataframe\">\n",
       "  <thead>\n",
       "    <tr style=\"text-align: right;\">\n",
       "      <th></th>\n",
       "      <th>ImageId</th>\n",
       "      <th>Label</th>\n",
       "    </tr>\n",
       "  </thead>\n",
       "  <tbody>\n",
       "    <tr>\n",
       "      <th>0</th>\n",
       "      <td>1</td>\n",
       "      <td>7.0</td>\n",
       "    </tr>\n",
       "    <tr>\n",
       "      <th>1</th>\n",
       "      <td>2</td>\n",
       "      <td>2.0</td>\n",
       "    </tr>\n",
       "    <tr>\n",
       "      <th>2</th>\n",
       "      <td>3</td>\n",
       "      <td>1.0</td>\n",
       "    </tr>\n",
       "    <tr>\n",
       "      <th>3</th>\n",
       "      <td>4</td>\n",
       "      <td>0.0</td>\n",
       "    </tr>\n",
       "    <tr>\n",
       "      <th>4</th>\n",
       "      <td>5</td>\n",
       "      <td>4.0</td>\n",
       "    </tr>\n",
       "    <tr>\n",
       "      <th>...</th>\n",
       "      <td>...</td>\n",
       "      <td>...</td>\n",
       "    </tr>\n",
       "    <tr>\n",
       "      <th>27995</th>\n",
       "      <td>27996</td>\n",
       "      <td>NaN</td>\n",
       "    </tr>\n",
       "    <tr>\n",
       "      <th>27996</th>\n",
       "      <td>27997</td>\n",
       "      <td>NaN</td>\n",
       "    </tr>\n",
       "    <tr>\n",
       "      <th>27997</th>\n",
       "      <td>27998</td>\n",
       "      <td>NaN</td>\n",
       "    </tr>\n",
       "    <tr>\n",
       "      <th>27998</th>\n",
       "      <td>27999</td>\n",
       "      <td>NaN</td>\n",
       "    </tr>\n",
       "    <tr>\n",
       "      <th>27999</th>\n",
       "      <td>28000</td>\n",
       "      <td>NaN</td>\n",
       "    </tr>\n",
       "  </tbody>\n",
       "</table>\n",
       "<p>28000 rows × 2 columns</p>\n",
       "</div>\n",
       "    <div class=\"colab-df-buttons\">\n",
       "\n",
       "  <div class=\"colab-df-container\">\n",
       "    <button class=\"colab-df-convert\" onclick=\"convertToInteractive('df-f53e9c41-a8d9-419f-9afe-19cd18d9e0a7')\"\n",
       "            title=\"Convert this dataframe to an interactive table.\"\n",
       "            style=\"display:none;\">\n",
       "\n",
       "  <svg xmlns=\"http://www.w3.org/2000/svg\" height=\"24px\" viewBox=\"0 -960 960 960\">\n",
       "    <path d=\"M120-120v-720h720v720H120Zm60-500h600v-160H180v160Zm220 220h160v-160H400v160Zm0 220h160v-160H400v160ZM180-400h160v-160H180v160Zm440 0h160v-160H620v160ZM180-180h160v-160H180v160Zm440 0h160v-160H620v160Z\"/>\n",
       "  </svg>\n",
       "    </button>\n",
       "\n",
       "  <style>\n",
       "    .colab-df-container {\n",
       "      display:flex;\n",
       "      gap: 12px;\n",
       "    }\n",
       "\n",
       "    .colab-df-convert {\n",
       "      background-color: #E8F0FE;\n",
       "      border: none;\n",
       "      border-radius: 50%;\n",
       "      cursor: pointer;\n",
       "      display: none;\n",
       "      fill: #1967D2;\n",
       "      height: 32px;\n",
       "      padding: 0 0 0 0;\n",
       "      width: 32px;\n",
       "    }\n",
       "\n",
       "    .colab-df-convert:hover {\n",
       "      background-color: #E2EBFA;\n",
       "      box-shadow: 0px 1px 2px rgba(60, 64, 67, 0.3), 0px 1px 3px 1px rgba(60, 64, 67, 0.15);\n",
       "      fill: #174EA6;\n",
       "    }\n",
       "\n",
       "    .colab-df-buttons div {\n",
       "      margin-bottom: 4px;\n",
       "    }\n",
       "\n",
       "    [theme=dark] .colab-df-convert {\n",
       "      background-color: #3B4455;\n",
       "      fill: #D2E3FC;\n",
       "    }\n",
       "\n",
       "    [theme=dark] .colab-df-convert:hover {\n",
       "      background-color: #434B5C;\n",
       "      box-shadow: 0px 1px 3px 1px rgba(0, 0, 0, 0.15);\n",
       "      filter: drop-shadow(0px 1px 2px rgba(0, 0, 0, 0.3));\n",
       "      fill: #FFFFFF;\n",
       "    }\n",
       "  </style>\n",
       "\n",
       "    <script>\n",
       "      const buttonEl =\n",
       "        document.querySelector('#df-f53e9c41-a8d9-419f-9afe-19cd18d9e0a7 button.colab-df-convert');\n",
       "      buttonEl.style.display =\n",
       "        google.colab.kernel.accessAllowed ? 'block' : 'none';\n",
       "\n",
       "      async function convertToInteractive(key) {\n",
       "        const element = document.querySelector('#df-f53e9c41-a8d9-419f-9afe-19cd18d9e0a7');\n",
       "        const dataTable =\n",
       "          await google.colab.kernel.invokeFunction('convertToInteractive',\n",
       "                                                    [key], {});\n",
       "        if (!dataTable) return;\n",
       "\n",
       "        const docLinkHtml = 'Like what you see? Visit the ' +\n",
       "          '<a target=\"_blank\" href=https://colab.research.google.com/notebooks/data_table.ipynb>data table notebook</a>'\n",
       "          + ' to learn more about interactive tables.';\n",
       "        element.innerHTML = '';\n",
       "        dataTable['output_type'] = 'display_data';\n",
       "        await google.colab.output.renderOutput(dataTable, element);\n",
       "        const docLink = document.createElement('div');\n",
       "        docLink.innerHTML = docLinkHtml;\n",
       "        element.appendChild(docLink);\n",
       "      }\n",
       "    </script>\n",
       "  </div>\n",
       "\n",
       "\n",
       "<div id=\"df-068cbd2c-7014-4287-9c4d-02a25d9be839\">\n",
       "  <button class=\"colab-df-quickchart\" onclick=\"quickchart('df-068cbd2c-7014-4287-9c4d-02a25d9be839')\"\n",
       "            title=\"Suggest charts\"\n",
       "            style=\"display:none;\">\n",
       "\n",
       "<svg xmlns=\"http://www.w3.org/2000/svg\" height=\"24px\"viewBox=\"0 0 24 24\"\n",
       "     width=\"24px\">\n",
       "    <g>\n",
       "        <path d=\"M19 3H5c-1.1 0-2 .9-2 2v14c0 1.1.9 2 2 2h14c1.1 0 2-.9 2-2V5c0-1.1-.9-2-2-2zM9 17H7v-7h2v7zm4 0h-2V7h2v10zm4 0h-2v-4h2v4z\"/>\n",
       "    </g>\n",
       "</svg>\n",
       "  </button>\n",
       "\n",
       "<style>\n",
       "  .colab-df-quickchart {\n",
       "      --bg-color: #E8F0FE;\n",
       "      --fill-color: #1967D2;\n",
       "      --hover-bg-color: #E2EBFA;\n",
       "      --hover-fill-color: #174EA6;\n",
       "      --disabled-fill-color: #AAA;\n",
       "      --disabled-bg-color: #DDD;\n",
       "  }\n",
       "\n",
       "  [theme=dark] .colab-df-quickchart {\n",
       "      --bg-color: #3B4455;\n",
       "      --fill-color: #D2E3FC;\n",
       "      --hover-bg-color: #434B5C;\n",
       "      --hover-fill-color: #FFFFFF;\n",
       "      --disabled-bg-color: #3B4455;\n",
       "      --disabled-fill-color: #666;\n",
       "  }\n",
       "\n",
       "  .colab-df-quickchart {\n",
       "    background-color: var(--bg-color);\n",
       "    border: none;\n",
       "    border-radius: 50%;\n",
       "    cursor: pointer;\n",
       "    display: none;\n",
       "    fill: var(--fill-color);\n",
       "    height: 32px;\n",
       "    padding: 0;\n",
       "    width: 32px;\n",
       "  }\n",
       "\n",
       "  .colab-df-quickchart:hover {\n",
       "    background-color: var(--hover-bg-color);\n",
       "    box-shadow: 0 1px 2px rgba(60, 64, 67, 0.3), 0 1px 3px 1px rgba(60, 64, 67, 0.15);\n",
       "    fill: var(--button-hover-fill-color);\n",
       "  }\n",
       "\n",
       "  .colab-df-quickchart-complete:disabled,\n",
       "  .colab-df-quickchart-complete:disabled:hover {\n",
       "    background-color: var(--disabled-bg-color);\n",
       "    fill: var(--disabled-fill-color);\n",
       "    box-shadow: none;\n",
       "  }\n",
       "\n",
       "  .colab-df-spinner {\n",
       "    border: 2px solid var(--fill-color);\n",
       "    border-color: transparent;\n",
       "    border-bottom-color: var(--fill-color);\n",
       "    animation:\n",
       "      spin 1s steps(1) infinite;\n",
       "  }\n",
       "\n",
       "  @keyframes spin {\n",
       "    0% {\n",
       "      border-color: transparent;\n",
       "      border-bottom-color: var(--fill-color);\n",
       "      border-left-color: var(--fill-color);\n",
       "    }\n",
       "    20% {\n",
       "      border-color: transparent;\n",
       "      border-left-color: var(--fill-color);\n",
       "      border-top-color: var(--fill-color);\n",
       "    }\n",
       "    30% {\n",
       "      border-color: transparent;\n",
       "      border-left-color: var(--fill-color);\n",
       "      border-top-color: var(--fill-color);\n",
       "      border-right-color: var(--fill-color);\n",
       "    }\n",
       "    40% {\n",
       "      border-color: transparent;\n",
       "      border-right-color: var(--fill-color);\n",
       "      border-top-color: var(--fill-color);\n",
       "    }\n",
       "    60% {\n",
       "      border-color: transparent;\n",
       "      border-right-color: var(--fill-color);\n",
       "    }\n",
       "    80% {\n",
       "      border-color: transparent;\n",
       "      border-right-color: var(--fill-color);\n",
       "      border-bottom-color: var(--fill-color);\n",
       "    }\n",
       "    90% {\n",
       "      border-color: transparent;\n",
       "      border-bottom-color: var(--fill-color);\n",
       "    }\n",
       "  }\n",
       "</style>\n",
       "\n",
       "  <script>\n",
       "    async function quickchart(key) {\n",
       "      const quickchartButtonEl =\n",
       "        document.querySelector('#' + key + ' button');\n",
       "      quickchartButtonEl.disabled = true;  // To prevent multiple clicks.\n",
       "      quickchartButtonEl.classList.add('colab-df-spinner');\n",
       "      try {\n",
       "        const charts = await google.colab.kernel.invokeFunction(\n",
       "            'suggestCharts', [key], {});\n",
       "      } catch (error) {\n",
       "        console.error('Error during call to suggestCharts:', error);\n",
       "      }\n",
       "      quickchartButtonEl.classList.remove('colab-df-spinner');\n",
       "      quickchartButtonEl.classList.add('colab-df-quickchart-complete');\n",
       "    }\n",
       "    (() => {\n",
       "      let quickchartButtonEl =\n",
       "        document.querySelector('#df-068cbd2c-7014-4287-9c4d-02a25d9be839 button');\n",
       "      quickchartButtonEl.style.display =\n",
       "        google.colab.kernel.accessAllowed ? 'block' : 'none';\n",
       "    })();\n",
       "  </script>\n",
       "</div>\n",
       "    </div>\n",
       "  </div>\n"
      ],
      "text/plain": [
       "       ImageId  Label\n",
       "0            1    7.0\n",
       "1            2    2.0\n",
       "2            3    1.0\n",
       "3            4    0.0\n",
       "4            5    4.0\n",
       "...        ...    ...\n",
       "27995    27996    NaN\n",
       "27996    27997    NaN\n",
       "27997    27998    NaN\n",
       "27998    27999    NaN\n",
       "27999    28000    NaN\n",
       "\n",
       "[28000 rows x 2 columns]"
      ]
     },
     "execution_count": 21,
     "metadata": {},
     "output_type": "execute_result"
    }
   ],
   "source": [
    "submission"
   ]
  },
  {
   "cell_type": "code",
   "execution_count": 23,
   "metadata": {
    "colab": {
     "base_uri": "https://localhost:8080/",
     "height": 735
    },
    "id": "6uyaK7XAOi2z",
    "outputId": "13a0b2fb-84de-4dbf-a8fa-04c95efc6eb3"
   },
   "outputs": [
    {
     "name": "stdout",
     "output_type": "stream",
     "text": [
      "313/313 [==============================] - 3s 9ms/step\n"
     ]
    },
    {
     "data": {
      "image/png": "[encoded data removed]",
      "text/plain": [
       "<Figure size 1000x800 with 2 Axes>"
      ]
     },
     "metadata": {},
     "output_type": "display_data"
    }
   ],
   "source": [
    "from sklearn.metrics import confusion_matrix\n",
    "import seaborn as sns\n",
    "import matplotlib.pyplot as plt\n",
    "\n",
    "# Get predicted labels for the test set\n",
    "results = LeNet5Model.predict(X_test)\n",
    "predicted_labels = np.argmax(results, axis=1)\n",
    "\n",
    "# Generate confusion matrix\n",
    "conf_matrix = confusion_matrix(Y_test, predicted_labels)\n",
    "\n",
    "# Plot confusion matrix\n",
    "plt.figure(figsize=(10, 8))\n",
    "sns.heatmap(conf_matrix, annot=True, fmt='d', cmap='viridis',\n",
    "            xticklabels=np.arange(10), yticklabels=np.arange(10))\n",
    "plt.xlabel('Predicted labels')\n",
    "plt.ylabel('True labels')\n",
    "plt.title('Confusion Matrix')\n",
    "plt.show()\n"
   ]
  },
  {
   "cell_type": "code",
   "execution_count": 29,
   "metadata": {
    "id": "pjWHl3n8Q0cD"
   },
   "outputs": [],
   "source": [
    "def display_input_output_images(input_data, output_labels, model, num_images=5):\n",
    "    plt.figure(figsize=(15, 6))\n",
    "    for i in range(num_images):\n",
    "        plt.subplot(2, num_images, i + 1)\n",
    "        plt.imshow(input_data[i].reshape(32, 32), cmap='gray')  # Reshape to (32, 32) for display\n",
    "        plt.axis('off')\n",
    "        plt.title(f\"Input: {output_labels[i]}\")\n",
    "\n",
    "        plt.subplot(2, num_images, i + 1 + num_images)\n",
    "        input_image = input_data[i].reshape(1, 32, 32, 1)  # Reshape the image to (1, 32, 32, 1)\n",
    "        predicted_output = model.predict(input_image)\n",
    "        predicted_label = np.argmax(predicted_output)\n",
    "        plt.text(0.5, 0.5, f\"Predicted: {predicted_label}\", ha='center', fontsize=10)\n",
    "        plt.axis('off')\n",
    "\n",
    "    plt.tight_layout()\n",
    "    plt.show()"
   ]
  },
  {
   "cell_type": "code",
   "execution_count": 30,
   "metadata": {
    "colab": {
     "base_uri": "https://localhost:8080/",
     "height": 698
    },
    "id": "8-5_cLt7RSxC",
    "outputId": "3343a9bc-51b7-4dba-bea4-2042cb7d3616"
   },
   "outputs": [
    {
     "name": "stdout",
     "output_type": "stream",
     "text": [
      "1/1 [==============================] - 0s 370ms/step\n",
      "1/1 [==============================] - 0s 31ms/step\n",
      "1/1 [==============================] - 0s 34ms/step\n",
      "1/1 [==============================] - 0s 39ms/step\n",
      "1/1 [==============================] - 0s 33ms/step\n"
     ]
    },
    {
     "data": {
      "image/png": "[encoded data removed]",
      "text/plain": [
       "<Figure size 1500x600 with 10 Axes>"
      ]
     },
     "metadata": {},
     "output_type": "display_data"
    }
   ],
   "source": [
    "display_input_output_images(X_val, Y_val, LeNet5Model)"
   ]
  },
  {
   "cell_type": "code",
   "execution_count": null,
   "metadata": {
    "id": "3bNUwdcPSLcD"
   },
   "outputs": [],
   "source": []
  }
 ],
 "metadata": {
  "accelerator": "GPU",
  "colab": {
   "gpuType": "T4",
   "provenance": []
  },
  "kernelspec": {
   "display_name": "Python 3 (ipykernel)",
   "language": "python",
   "name": "python3"
  },
  "language_info": {
   "codemirror_mode": {
    "name": "ipython",
    "version": 3
   },
   "file_extension": ".py",
   "mimetype": "text/x-python",
   "name": "python",
   "nbconvert_exporter": "python",
   "pygments_lexer": "ipython3",
   "version": "3.11.4"
  }
 },
 "nbformat": 4,
 "nbformat_minor": 4
}
